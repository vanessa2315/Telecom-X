{
  "nbformat": 4,
  "nbformat_minor": 0,
  "metadata": {
    "colab": {
      "provenance": [],
      "authorship_tag": "ABX9TyM2sDGKCaZUUvp+SiE+6SpR",
      "include_colab_link": true
    },
    "kernelspec": {
      "name": "python3",
      "display_name": "Python 3"
    },
    "language_info": {
      "name": "python"
    }
  },
  "cells": [
    {
      "cell_type": "markdown",
      "metadata": {
        "id": "view-in-github",
        "colab_type": "text"
      },
      "source": [
        "<a href=\"https://colab.research.google.com/github/vanessa2315/Telecom-X/blob/main/Untitled9.ipynb\" target=\"_parent\"><img src=\"https://colab.research.google.com/assets/colab-badge.svg\" alt=\"Open In Colab\"/></a>"
      ]
    },
    {
      "cell_type": "code",
      "source": [
        "print('''Análise de Dados – Telecom X\n",
        "\n",
        "Tema: Evasão de Clientes (Churn)\n",
        "Vanessa Borges de Souza\n",
        "Ferramenta: Google Colab com Python!''')"
      ],
      "metadata": {
        "colab": {
          "base_uri": "https://localhost:8080/"
        },
        "id": "wi5HN9JIkx-2",
        "outputId": "4923382a-95f4-455a-c439-af1c6beade5d"
      },
      "execution_count": 4,
      "outputs": [
        {
          "output_type": "stream",
          "name": "stdout",
          "text": [
            "Análise de Dados – Telecom X\n",
            "\n",
            "Tema: Evasão de Clientes (Churn)\n",
            "Vanessa Borges de Souza \n",
            "Ferramenta: Google Colab com Python!\n"
          ]
        }
      ]
    },
    {
      "cell_type": "code",
      "source": [
        "print('''Introdução\n",
        "\n",
        "A empresa Telecom X vem enfrentando altos índices de evasão de clientes,\n",
        "O presente estudo visa compreender, a partir de dados disponibilizados pela Telecom X,\n",
        "quais fatores estão mais associados ao desligamento de clientes,\n",
        "fornecendo à equipe de ciência de dados ferramentas para reverter esse cenário e melhorar a retenção de clientes.\n",
        "\n",
        "Utilizaremos o processo de ETL:\n",
        "\n",
        "Extração dos dados da fonte.\n",
        "\n",
        "Transformação e limpeza para deixá-los prontos.''')"
      ],
      "metadata": {
        "colab": {
          "base_uri": "https://localhost:8080/"
        },
        "id": "NEQdk7-MkY8T",
        "outputId": "6de9e972-03cb-4199-e233-3617c3cc367a"
      },
      "execution_count": 5,
      "outputs": [
        {
          "output_type": "stream",
          "name": "stdout",
          "text": [
            "Introdução\n",
            "\n",
            "A empresa Telecom X vem enfrentando altos índices de evasão de clientes, \n",
            "O presente estudo visa compreender, a partir de dados disponibilizados pela Telecom X, \n",
            "quais fatores estão mais associados ao desligamento de clientes, \n",
            "fornecendo à equipe de ciência de dados ferramentas para reverter esse cenário e melhorar a retenção de clientes.\n",
            "\n",
            "Utilizaremos o processo de ETL:\n",
            "\n",
            "Extração dos dados da fonte.\n",
            "\n",
            "Transformação e limpeza para deixá-los prontos.\n"
          ]
        }
      ]
    },
    {
      "cell_type": "code",
      "source": [
        "print(''' Objetivo!\n",
        "Neste projeto, o objetivo é analisar os dados da empresa de telecomunicações Telecom X para entender os motivos da evasão de clientes (churn),\n",
        "utilizando o processo ETL: Extração, Transformação e Análise Exploratória de Dados.''')"
      ],
      "metadata": {
        "colab": {
          "base_uri": "https://localhost:8080/"
        },
        "id": "qGmKVm_fkOCy",
        "outputId": "04a48e7c-bdc3-4591-b853-0ac7f8d5d066"
      },
      "execution_count": 6,
      "outputs": [
        {
          "output_type": "stream",
          "name": "stdout",
          "text": [
            " Objetivo!\n",
            "Neste projeto, o objetivo é analisar os dados da empresa de telecomunicações Telecom X para entender os motivos da evasão de clientes (churn), \n",
            "utilizando o processo ETL: Extração, Transformação e Análise Exploratória de Dados.\n"
          ]
        }
      ]
    },
    {
      "cell_type": "code",
      "source": [
        "print('''##Bibliotecas Utilizadas\n",
        "\n",
        "- **pandas:** Para carregar, tratar e manipular os dados.\n",
        "- **matplotlib & seaborn:** Para visualização dos dados em gráficos.\n",
        "- **numpy:** Para cálculos numéricos durante o tratamento de dados.''')"
      ],
      "metadata": {
        "colab": {
          "base_uri": "https://localhost:8080/"
        },
        "id": "9EHY6N07qA4p",
        "outputId": "dd5def4d-bc19-4c91-8fad-1a718ddde624"
      },
      "execution_count": 7,
      "outputs": [
        {
          "output_type": "stream",
          "name": "stdout",
          "text": [
            "##Bibliotecas Utilizadas\n",
            "\n",
            "- **pandas:** Para carregar, tratar e manipular os dados.\n",
            "- **matplotlib & seaborn:** Para visualização dos dados em gráficos.\n",
            "- **numpy:** Para cálculos numéricos durante o tratamento de dados.\n"
          ]
        }
      ]
    },
    {
      "cell_type": "code",
      "source": [],
      "metadata": {
        "id": "gocYfStaqNPl"
      },
      "execution_count": null,
      "outputs": []
    },
    {
      "cell_type": "code",
      "source": [
        "import pandas as pd\n",
        "\n",
        "url = 'https://raw.githubusercontent.com/ingridcristh/challenge2-data-science/main/TelecomX_Data.json'\n",
        "dados = pd.read_json(url)\n"
      ],
      "metadata": {
        "id": "V5h-Xnkq6dRC"
      },
      "execution_count": 58,
      "outputs": []
    },
    {
      "cell_type": "code",
      "source": [
        "# Expandindo as colunas com dicionários para colunas separadas\n",
        "customer = dados['customer'].apply(pd.Series)\n",
        "phone = dados['phone'].apply(pd.Series)\n",
        "internet = dados['internet'].apply(pd.Series)\n",
        "account = dados['account'].apply(pd.Series)\n"
      ],
      "metadata": {
        "id": "MnHzN8G83x06"
      },
      "execution_count": 59,
      "outputs": []
    },
    {
      "cell_type": "code",
      "source": [
        "# Juntando tudo em um só conjunto de dados\n",
        "df = pd.concat([dados[['customerID', 'Churn']], customer, phone, internet, account], axis=1)\n"
      ],
      "metadata": {
        "id": "qJiM4KfG6ok5"
      },
      "execution_count": 60,
      "outputs": []
    },
    {
      "cell_type": "code",
      "source": [
        "df.rename(columns={\n",
        "    'customerID': 'ID_Cliente',\n",
        "    'Churn': 'Evasao',\n",
        "    'gender': 'Genero',\n",
        "    'SeniorCitizen': 'Idoso',\n",
        "    'Partner': 'Possui_Parceiro',\n",
        "    'Dependents': 'Possui_Dependentes',\n",
        "    'PhoneService': 'Servico_Telefone',\n",
        "    'MultipleLines': 'Multiplas_Linhas',\n",
        "    'InternetService': 'Servico_Internet',\n",
        "    'OnlineSecurity': 'Seguranca_Online',\n",
        "    'OnlineBackup': 'Backup_Online',\n",
        "    'DeviceProtection': 'Protecao_Dispositivo',\n",
        "    'TechSupport': 'Suporte_Tecnico',\n",
        "    'StreamingTV': 'TV_Streaming',\n",
        "    'StreamingMovies': 'Filmes_Streaming',\n",
        "    'Contract': 'Tipo_Contrato',\n",
        "    'PaperlessBilling': 'Fatura_Papel',\n",
        "    'PaymentMethod': 'Forma_Pagamento',\n",
        "    'MonthlyCharges': 'Gasto_Mensal',\n",
        "    'TotalCharges': 'Gasto_Total'\n",
        "}, inplace=True)\n"
      ],
      "metadata": {
        "id": "N1CwNafP6svg"
      },
      "execution_count": 61,
      "outputs": []
    },
    {
      "cell_type": "code",
      "source": [
        "df.head()\n"
      ],
      "metadata": {
        "colab": {
          "base_uri": "https://localhost:8080/",
          "height": 487
        },
        "id": "wjvcp3126yYh",
        "outputId": "28ec6d39-a889-4383-c832-e36caea4c654"
      },
      "execution_count": 62,
      "outputs": [
        {
          "output_type": "execute_result",
          "data": {
            "text/plain": [
              "   ID_Cliente Evasao  Genero  Idoso Possui_Parceiro Possui_Dependentes  \\\n",
              "0  0002-ORFBO     No  Female      0             Yes                Yes   \n",
              "1  0003-MKNFE     No    Male      0              No                 No   \n",
              "2  0004-TLHLJ    Yes    Male      0              No                 No   \n",
              "3  0011-IGKFF    Yes    Male      1             Yes                 No   \n",
              "4  0013-EXCHZ    Yes  Female      1             Yes                 No   \n",
              "\n",
              "   tenure Servico_Telefone Multiplas_Linhas Servico_Internet Seguranca_Online  \\\n",
              "0       9              Yes               No              DSL               No   \n",
              "1       9              Yes              Yes              DSL               No   \n",
              "2       4              Yes               No      Fiber optic               No   \n",
              "3      13              Yes               No      Fiber optic               No   \n",
              "4       3              Yes               No      Fiber optic               No   \n",
              "\n",
              "  Backup_Online Protecao_Dispositivo Suporte_Tecnico TV_Streaming  \\\n",
              "0           Yes                   No             Yes          Yes   \n",
              "1            No                   No              No           No   \n",
              "2            No                  Yes              No           No   \n",
              "3           Yes                  Yes              No          Yes   \n",
              "4            No                   No             Yes          Yes   \n",
              "\n",
              "  Filmes_Streaming   Tipo_Contrato Fatura_Papel   Forma_Pagamento  \\\n",
              "0               No        One year          Yes      Mailed check   \n",
              "1              Yes  Month-to-month           No      Mailed check   \n",
              "2               No  Month-to-month          Yes  Electronic check   \n",
              "3              Yes  Month-to-month          Yes  Electronic check   \n",
              "4               No  Month-to-month          Yes      Mailed check   \n",
              "\n",
              "                                 Charges  \n",
              "0    {'Monthly': 65.6, 'Total': '593.3'}  \n",
              "1    {'Monthly': 59.9, 'Total': '542.4'}  \n",
              "2   {'Monthly': 73.9, 'Total': '280.85'}  \n",
              "3  {'Monthly': 98.0, 'Total': '1237.85'}  \n",
              "4    {'Monthly': 83.9, 'Total': '267.4'}  "
            ],
            "text/html": [
              "\n",
              "  <div id=\"df-ada6340b-9efe-4b69-b6de-0f3b16c27f78\" class=\"colab-df-container\">\n",
              "    <div>\n",
              "<style scoped>\n",
              "    .dataframe tbody tr th:only-of-type {\n",
              "        vertical-align: middle;\n",
              "    }\n",
              "\n",
              "    .dataframe tbody tr th {\n",
              "        vertical-align: top;\n",
              "    }\n",
              "\n",
              "    .dataframe thead th {\n",
              "        text-align: right;\n",
              "    }\n",
              "</style>\n",
              "<table border=\"1\" class=\"dataframe\">\n",
              "  <thead>\n",
              "    <tr style=\"text-align: right;\">\n",
              "      <th></th>\n",
              "      <th>ID_Cliente</th>\n",
              "      <th>Evasao</th>\n",
              "      <th>Genero</th>\n",
              "      <th>Idoso</th>\n",
              "      <th>Possui_Parceiro</th>\n",
              "      <th>Possui_Dependentes</th>\n",
              "      <th>tenure</th>\n",
              "      <th>Servico_Telefone</th>\n",
              "      <th>Multiplas_Linhas</th>\n",
              "      <th>Servico_Internet</th>\n",
              "      <th>Seguranca_Online</th>\n",
              "      <th>Backup_Online</th>\n",
              "      <th>Protecao_Dispositivo</th>\n",
              "      <th>Suporte_Tecnico</th>\n",
              "      <th>TV_Streaming</th>\n",
              "      <th>Filmes_Streaming</th>\n",
              "      <th>Tipo_Contrato</th>\n",
              "      <th>Fatura_Papel</th>\n",
              "      <th>Forma_Pagamento</th>\n",
              "      <th>Charges</th>\n",
              "    </tr>\n",
              "  </thead>\n",
              "  <tbody>\n",
              "    <tr>\n",
              "      <th>0</th>\n",
              "      <td>0002-ORFBO</td>\n",
              "      <td>No</td>\n",
              "      <td>Female</td>\n",
              "      <td>0</td>\n",
              "      <td>Yes</td>\n",
              "      <td>Yes</td>\n",
              "      <td>9</td>\n",
              "      <td>Yes</td>\n",
              "      <td>No</td>\n",
              "      <td>DSL</td>\n",
              "      <td>No</td>\n",
              "      <td>Yes</td>\n",
              "      <td>No</td>\n",
              "      <td>Yes</td>\n",
              "      <td>Yes</td>\n",
              "      <td>No</td>\n",
              "      <td>One year</td>\n",
              "      <td>Yes</td>\n",
              "      <td>Mailed check</td>\n",
              "      <td>{'Monthly': 65.6, 'Total': '593.3'}</td>\n",
              "    </tr>\n",
              "    <tr>\n",
              "      <th>1</th>\n",
              "      <td>0003-MKNFE</td>\n",
              "      <td>No</td>\n",
              "      <td>Male</td>\n",
              "      <td>0</td>\n",
              "      <td>No</td>\n",
              "      <td>No</td>\n",
              "      <td>9</td>\n",
              "      <td>Yes</td>\n",
              "      <td>Yes</td>\n",
              "      <td>DSL</td>\n",
              "      <td>No</td>\n",
              "      <td>No</td>\n",
              "      <td>No</td>\n",
              "      <td>No</td>\n",
              "      <td>No</td>\n",
              "      <td>Yes</td>\n",
              "      <td>Month-to-month</td>\n",
              "      <td>No</td>\n",
              "      <td>Mailed check</td>\n",
              "      <td>{'Monthly': 59.9, 'Total': '542.4'}</td>\n",
              "    </tr>\n",
              "    <tr>\n",
              "      <th>2</th>\n",
              "      <td>0004-TLHLJ</td>\n",
              "      <td>Yes</td>\n",
              "      <td>Male</td>\n",
              "      <td>0</td>\n",
              "      <td>No</td>\n",
              "      <td>No</td>\n",
              "      <td>4</td>\n",
              "      <td>Yes</td>\n",
              "      <td>No</td>\n",
              "      <td>Fiber optic</td>\n",
              "      <td>No</td>\n",
              "      <td>No</td>\n",
              "      <td>Yes</td>\n",
              "      <td>No</td>\n",
              "      <td>No</td>\n",
              "      <td>No</td>\n",
              "      <td>Month-to-month</td>\n",
              "      <td>Yes</td>\n",
              "      <td>Electronic check</td>\n",
              "      <td>{'Monthly': 73.9, 'Total': '280.85'}</td>\n",
              "    </tr>\n",
              "    <tr>\n",
              "      <th>3</th>\n",
              "      <td>0011-IGKFF</td>\n",
              "      <td>Yes</td>\n",
              "      <td>Male</td>\n",
              "      <td>1</td>\n",
              "      <td>Yes</td>\n",
              "      <td>No</td>\n",
              "      <td>13</td>\n",
              "      <td>Yes</td>\n",
              "      <td>No</td>\n",
              "      <td>Fiber optic</td>\n",
              "      <td>No</td>\n",
              "      <td>Yes</td>\n",
              "      <td>Yes</td>\n",
              "      <td>No</td>\n",
              "      <td>Yes</td>\n",
              "      <td>Yes</td>\n",
              "      <td>Month-to-month</td>\n",
              "      <td>Yes</td>\n",
              "      <td>Electronic check</td>\n",
              "      <td>{'Monthly': 98.0, 'Total': '1237.85'}</td>\n",
              "    </tr>\n",
              "    <tr>\n",
              "      <th>4</th>\n",
              "      <td>0013-EXCHZ</td>\n",
              "      <td>Yes</td>\n",
              "      <td>Female</td>\n",
              "      <td>1</td>\n",
              "      <td>Yes</td>\n",
              "      <td>No</td>\n",
              "      <td>3</td>\n",
              "      <td>Yes</td>\n",
              "      <td>No</td>\n",
              "      <td>Fiber optic</td>\n",
              "      <td>No</td>\n",
              "      <td>No</td>\n",
              "      <td>No</td>\n",
              "      <td>Yes</td>\n",
              "      <td>Yes</td>\n",
              "      <td>No</td>\n",
              "      <td>Month-to-month</td>\n",
              "      <td>Yes</td>\n",
              "      <td>Mailed check</td>\n",
              "      <td>{'Monthly': 83.9, 'Total': '267.4'}</td>\n",
              "    </tr>\n",
              "  </tbody>\n",
              "</table>\n",
              "</div>\n",
              "    <div class=\"colab-df-buttons\">\n",
              "\n",
              "  <div class=\"colab-df-container\">\n",
              "    <button class=\"colab-df-convert\" onclick=\"convertToInteractive('df-ada6340b-9efe-4b69-b6de-0f3b16c27f78')\"\n",
              "            title=\"Convert this dataframe to an interactive table.\"\n",
              "            style=\"display:none;\">\n",
              "\n",
              "  <svg xmlns=\"http://www.w3.org/2000/svg\" height=\"24px\" viewBox=\"0 -960 960 960\">\n",
              "    <path d=\"M120-120v-720h720v720H120Zm60-500h600v-160H180v160Zm220 220h160v-160H400v160Zm0 220h160v-160H400v160ZM180-400h160v-160H180v160Zm440 0h160v-160H620v160ZM180-180h160v-160H180v160Zm440 0h160v-160H620v160Z\"/>\n",
              "  </svg>\n",
              "    </button>\n",
              "\n",
              "  <style>\n",
              "    .colab-df-container {\n",
              "      display:flex;\n",
              "      gap: 12px;\n",
              "    }\n",
              "\n",
              "    .colab-df-convert {\n",
              "      background-color: #E8F0FE;\n",
              "      border: none;\n",
              "      border-radius: 50%;\n",
              "      cursor: pointer;\n",
              "      display: none;\n",
              "      fill: #1967D2;\n",
              "      height: 32px;\n",
              "      padding: 0 0 0 0;\n",
              "      width: 32px;\n",
              "    }\n",
              "\n",
              "    .colab-df-convert:hover {\n",
              "      background-color: #E2EBFA;\n",
              "      box-shadow: 0px 1px 2px rgba(60, 64, 67, 0.3), 0px 1px 3px 1px rgba(60, 64, 67, 0.15);\n",
              "      fill: #174EA6;\n",
              "    }\n",
              "\n",
              "    .colab-df-buttons div {\n",
              "      margin-bottom: 4px;\n",
              "    }\n",
              "\n",
              "    [theme=dark] .colab-df-convert {\n",
              "      background-color: #3B4455;\n",
              "      fill: #D2E3FC;\n",
              "    }\n",
              "\n",
              "    [theme=dark] .colab-df-convert:hover {\n",
              "      background-color: #434B5C;\n",
              "      box-shadow: 0px 1px 3px 1px rgba(0, 0, 0, 0.15);\n",
              "      filter: drop-shadow(0px 1px 2px rgba(0, 0, 0, 0.3));\n",
              "      fill: #FFFFFF;\n",
              "    }\n",
              "  </style>\n",
              "\n",
              "    <script>\n",
              "      const buttonEl =\n",
              "        document.querySelector('#df-ada6340b-9efe-4b69-b6de-0f3b16c27f78 button.colab-df-convert');\n",
              "      buttonEl.style.display =\n",
              "        google.colab.kernel.accessAllowed ? 'block' : 'none';\n",
              "\n",
              "      async function convertToInteractive(key) {\n",
              "        const element = document.querySelector('#df-ada6340b-9efe-4b69-b6de-0f3b16c27f78');\n",
              "        const dataTable =\n",
              "          await google.colab.kernel.invokeFunction('convertToInteractive',\n",
              "                                                    [key], {});\n",
              "        if (!dataTable) return;\n",
              "\n",
              "        const docLinkHtml = 'Like what you see? Visit the ' +\n",
              "          '<a target=\"_blank\" href=https://colab.research.google.com/notebooks/data_table.ipynb>data table notebook</a>'\n",
              "          + ' to learn more about interactive tables.';\n",
              "        element.innerHTML = '';\n",
              "        dataTable['output_type'] = 'display_data';\n",
              "        await google.colab.output.renderOutput(dataTable, element);\n",
              "        const docLink = document.createElement('div');\n",
              "        docLink.innerHTML = docLinkHtml;\n",
              "        element.appendChild(docLink);\n",
              "      }\n",
              "    </script>\n",
              "  </div>\n",
              "\n",
              "\n",
              "    <div id=\"df-27f6a21c-6fff-4e54-8629-00fcbd726aa1\">\n",
              "      <button class=\"colab-df-quickchart\" onclick=\"quickchart('df-27f6a21c-6fff-4e54-8629-00fcbd726aa1')\"\n",
              "                title=\"Suggest charts\"\n",
              "                style=\"display:none;\">\n",
              "\n",
              "<svg xmlns=\"http://www.w3.org/2000/svg\" height=\"24px\"viewBox=\"0 0 24 24\"\n",
              "     width=\"24px\">\n",
              "    <g>\n",
              "        <path d=\"M19 3H5c-1.1 0-2 .9-2 2v14c0 1.1.9 2 2 2h14c1.1 0 2-.9 2-2V5c0-1.1-.9-2-2-2zM9 17H7v-7h2v7zm4 0h-2V7h2v10zm4 0h-2v-4h2v4z\"/>\n",
              "    </g>\n",
              "</svg>\n",
              "      </button>\n",
              "\n",
              "<style>\n",
              "  .colab-df-quickchart {\n",
              "      --bg-color: #E8F0FE;\n",
              "      --fill-color: #1967D2;\n",
              "      --hover-bg-color: #E2EBFA;\n",
              "      --hover-fill-color: #174EA6;\n",
              "      --disabled-fill-color: #AAA;\n",
              "      --disabled-bg-color: #DDD;\n",
              "  }\n",
              "\n",
              "  [theme=dark] .colab-df-quickchart {\n",
              "      --bg-color: #3B4455;\n",
              "      --fill-color: #D2E3FC;\n",
              "      --hover-bg-color: #434B5C;\n",
              "      --hover-fill-color: #FFFFFF;\n",
              "      --disabled-bg-color: #3B4455;\n",
              "      --disabled-fill-color: #666;\n",
              "  }\n",
              "\n",
              "  .colab-df-quickchart {\n",
              "    background-color: var(--bg-color);\n",
              "    border: none;\n",
              "    border-radius: 50%;\n",
              "    cursor: pointer;\n",
              "    display: none;\n",
              "    fill: var(--fill-color);\n",
              "    height: 32px;\n",
              "    padding: 0;\n",
              "    width: 32px;\n",
              "  }\n",
              "\n",
              "  .colab-df-quickchart:hover {\n",
              "    background-color: var(--hover-bg-color);\n",
              "    box-shadow: 0 1px 2px rgba(60, 64, 67, 0.3), 0 1px 3px 1px rgba(60, 64, 67, 0.15);\n",
              "    fill: var(--button-hover-fill-color);\n",
              "  }\n",
              "\n",
              "  .colab-df-quickchart-complete:disabled,\n",
              "  .colab-df-quickchart-complete:disabled:hover {\n",
              "    background-color: var(--disabled-bg-color);\n",
              "    fill: var(--disabled-fill-color);\n",
              "    box-shadow: none;\n",
              "  }\n",
              "\n",
              "  .colab-df-spinner {\n",
              "    border: 2px solid var(--fill-color);\n",
              "    border-color: transparent;\n",
              "    border-bottom-color: var(--fill-color);\n",
              "    animation:\n",
              "      spin 1s steps(1) infinite;\n",
              "  }\n",
              "\n",
              "  @keyframes spin {\n",
              "    0% {\n",
              "      border-color: transparent;\n",
              "      border-bottom-color: var(--fill-color);\n",
              "      border-left-color: var(--fill-color);\n",
              "    }\n",
              "    20% {\n",
              "      border-color: transparent;\n",
              "      border-left-color: var(--fill-color);\n",
              "      border-top-color: var(--fill-color);\n",
              "    }\n",
              "    30% {\n",
              "      border-color: transparent;\n",
              "      border-left-color: var(--fill-color);\n",
              "      border-top-color: var(--fill-color);\n",
              "      border-right-color: var(--fill-color);\n",
              "    }\n",
              "    40% {\n",
              "      border-color: transparent;\n",
              "      border-right-color: var(--fill-color);\n",
              "      border-top-color: var(--fill-color);\n",
              "    }\n",
              "    60% {\n",
              "      border-color: transparent;\n",
              "      border-right-color: var(--fill-color);\n",
              "    }\n",
              "    80% {\n",
              "      border-color: transparent;\n",
              "      border-right-color: var(--fill-color);\n",
              "      border-bottom-color: var(--fill-color);\n",
              "    }\n",
              "    90% {\n",
              "      border-color: transparent;\n",
              "      border-bottom-color: var(--fill-color);\n",
              "    }\n",
              "  }\n",
              "</style>\n",
              "\n",
              "      <script>\n",
              "        async function quickchart(key) {\n",
              "          const quickchartButtonEl =\n",
              "            document.querySelector('#' + key + ' button');\n",
              "          quickchartButtonEl.disabled = true;  // To prevent multiple clicks.\n",
              "          quickchartButtonEl.classList.add('colab-df-spinner');\n",
              "          try {\n",
              "            const charts = await google.colab.kernel.invokeFunction(\n",
              "                'suggestCharts', [key], {});\n",
              "          } catch (error) {\n",
              "            console.error('Error during call to suggestCharts:', error);\n",
              "          }\n",
              "          quickchartButtonEl.classList.remove('colab-df-spinner');\n",
              "          quickchartButtonEl.classList.add('colab-df-quickchart-complete');\n",
              "        }\n",
              "        (() => {\n",
              "          let quickchartButtonEl =\n",
              "            document.querySelector('#df-27f6a21c-6fff-4e54-8629-00fcbd726aa1 button');\n",
              "          quickchartButtonEl.style.display =\n",
              "            google.colab.kernel.accessAllowed ? 'block' : 'none';\n",
              "        })();\n",
              "      </script>\n",
              "    </div>\n",
              "\n",
              "    </div>\n",
              "  </div>\n"
            ],
            "application/vnd.google.colaboratory.intrinsic+json": {
              "type": "dataframe",
              "variable_name": "df",
              "summary": "{\n  \"name\": \"df\",\n  \"rows\": 7267,\n  \"fields\": [\n    {\n      \"column\": \"ID_Cliente\",\n      \"properties\": {\n        \"dtype\": \"string\",\n        \"num_unique_values\": 7267,\n        \"samples\": [\n          \"2038-OEQZH\",\n          \"6322-HRPFA\",\n          \"3969-JQABI\"\n        ],\n        \"semantic_type\": \"\",\n        \"description\": \"\"\n      }\n    },\n    {\n      \"column\": \"Evasao\",\n      \"properties\": {\n        \"dtype\": \"category\",\n        \"num_unique_values\": 3,\n        \"samples\": [\n          \"No\",\n          \"Yes\",\n          \"\"\n        ],\n        \"semantic_type\": \"\",\n        \"description\": \"\"\n      }\n    },\n    {\n      \"column\": \"Genero\",\n      \"properties\": {\n        \"dtype\": \"category\",\n        \"num_unique_values\": 2,\n        \"samples\": [\n          \"Male\",\n          \"Female\"\n        ],\n        \"semantic_type\": \"\",\n        \"description\": \"\"\n      }\n    },\n    {\n      \"column\": \"Idoso\",\n      \"properties\": {\n        \"dtype\": \"number\",\n        \"std\": 0,\n        \"min\": 0,\n        \"max\": 1,\n        \"num_unique_values\": 2,\n        \"samples\": [\n          1,\n          0\n        ],\n        \"semantic_type\": \"\",\n        \"description\": \"\"\n      }\n    },\n    {\n      \"column\": \"Possui_Parceiro\",\n      \"properties\": {\n        \"dtype\": \"category\",\n        \"num_unique_values\": 2,\n        \"samples\": [\n          \"No\",\n          \"Yes\"\n        ],\n        \"semantic_type\": \"\",\n        \"description\": \"\"\n      }\n    },\n    {\n      \"column\": \"Possui_Dependentes\",\n      \"properties\": {\n        \"dtype\": \"category\",\n        \"num_unique_values\": 2,\n        \"samples\": [\n          \"No\",\n          \"Yes\"\n        ],\n        \"semantic_type\": \"\",\n        \"description\": \"\"\n      }\n    },\n    {\n      \"column\": \"tenure\",\n      \"properties\": {\n        \"dtype\": \"number\",\n        \"std\": 24,\n        \"min\": 0,\n        \"max\": 72,\n        \"num_unique_values\": 73,\n        \"samples\": [\n          71,\n          53\n        ],\n        \"semantic_type\": \"\",\n        \"description\": \"\"\n      }\n    },\n    {\n      \"column\": \"Servico_Telefone\",\n      \"properties\": {\n        \"dtype\": \"category\",\n        \"num_unique_values\": 2,\n        \"samples\": [\n          \"No\",\n          \"Yes\"\n        ],\n        \"semantic_type\": \"\",\n        \"description\": \"\"\n      }\n    },\n    {\n      \"column\": \"Multiplas_Linhas\",\n      \"properties\": {\n        \"dtype\": \"category\",\n        \"num_unique_values\": 3,\n        \"samples\": [\n          \"No\",\n          \"Yes\"\n        ],\n        \"semantic_type\": \"\",\n        \"description\": \"\"\n      }\n    },\n    {\n      \"column\": \"Servico_Internet\",\n      \"properties\": {\n        \"dtype\": \"category\",\n        \"num_unique_values\": 3,\n        \"samples\": [\n          \"DSL\",\n          \"Fiber optic\"\n        ],\n        \"semantic_type\": \"\",\n        \"description\": \"\"\n      }\n    },\n    {\n      \"column\": \"Seguranca_Online\",\n      \"properties\": {\n        \"dtype\": \"category\",\n        \"num_unique_values\": 3,\n        \"samples\": [\n          \"No\",\n          \"Yes\"\n        ],\n        \"semantic_type\": \"\",\n        \"description\": \"\"\n      }\n    },\n    {\n      \"column\": \"Backup_Online\",\n      \"properties\": {\n        \"dtype\": \"category\",\n        \"num_unique_values\": 3,\n        \"samples\": [\n          \"Yes\",\n          \"No\"\n        ],\n        \"semantic_type\": \"\",\n        \"description\": \"\"\n      }\n    },\n    {\n      \"column\": \"Protecao_Dispositivo\",\n      \"properties\": {\n        \"dtype\": \"category\",\n        \"num_unique_values\": 3,\n        \"samples\": [\n          \"No\",\n          \"Yes\"\n        ],\n        \"semantic_type\": \"\",\n        \"description\": \"\"\n      }\n    },\n    {\n      \"column\": \"Suporte_Tecnico\",\n      \"properties\": {\n        \"dtype\": \"category\",\n        \"num_unique_values\": 3,\n        \"samples\": [\n          \"Yes\",\n          \"No\"\n        ],\n        \"semantic_type\": \"\",\n        \"description\": \"\"\n      }\n    },\n    {\n      \"column\": \"TV_Streaming\",\n      \"properties\": {\n        \"dtype\": \"category\",\n        \"num_unique_values\": 3,\n        \"samples\": [\n          \"Yes\",\n          \"No\"\n        ],\n        \"semantic_type\": \"\",\n        \"description\": \"\"\n      }\n    },\n    {\n      \"column\": \"Filmes_Streaming\",\n      \"properties\": {\n        \"dtype\": \"category\",\n        \"num_unique_values\": 3,\n        \"samples\": [\n          \"No\",\n          \"Yes\"\n        ],\n        \"semantic_type\": \"\",\n        \"description\": \"\"\n      }\n    },\n    {\n      \"column\": \"Tipo_Contrato\",\n      \"properties\": {\n        \"dtype\": \"category\",\n        \"num_unique_values\": 3,\n        \"samples\": [\n          \"One year\",\n          \"Month-to-month\"\n        ],\n        \"semantic_type\": \"\",\n        \"description\": \"\"\n      }\n    },\n    {\n      \"column\": \"Fatura_Papel\",\n      \"properties\": {\n        \"dtype\": \"category\",\n        \"num_unique_values\": 2,\n        \"samples\": [\n          \"No\",\n          \"Yes\"\n        ],\n        \"semantic_type\": \"\",\n        \"description\": \"\"\n      }\n    },\n    {\n      \"column\": \"Forma_Pagamento\",\n      \"properties\": {\n        \"dtype\": \"category\",\n        \"num_unique_values\": 4,\n        \"samples\": [\n          \"Electronic check\",\n          \"Bank transfer (automatic)\"\n        ],\n        \"semantic_type\": \"\",\n        \"description\": \"\"\n      }\n    },\n    {\n      \"column\": \"Charges\",\n      \"properties\": {\n        \"dtype\": \"object\",\n        \"semantic_type\": \"\",\n        \"description\": \"\"\n      }\n    }\n  ]\n}"
            }
          },
          "metadata": {},
          "execution_count": 62
        }
      ]
    },
    {
      "cell_type": "code",
      "source": [],
      "metadata": {
        "id": "_kqM8923nWX4"
      },
      "execution_count": null,
      "outputs": []
    },
    {
      "cell_type": "code",
      "source": [
        "print('''Colunas Traduzidas e Explicadas\n",
        "Para entendee exatamente o que cada coisa significa:\n",
        "\n",
        "\n",
        "Nome da Coluna\t                      Significado\n",
        "\n",
        "ID_Cliente\t                  Identificação única de cada cliente\n",
        "\n",
        "Gênero\t                     Gênero do cliente (Masculino ou Feminino)\n",
        "Idoso\t                       Se o cliente é idoso (1 = Sim, 0 = Não)\n",
        "Possui_Parceiro\t             Se o cliente tem cônjuge/parceiro\n",
        "Possui_Dependentes\t         Outras pessoas sob sua responsabilidade\n",
        "MesesCliente\t               Meses que o cliente está na empresa\n",
        "Servico_Telefone\t           Se o cliente contratou serviço de telefone\n",
        "Multiplas_Linhas\t           Se o telefone tem mais de uma linha ativa\n",
        "Servico_Internet\t           Tipo de internet (DSL, Fibra ótica, etc.)\n",
        "Seguranca_Online\t            Contratou serviço de segurança de navegação\n",
        "Backup_Online\t                Se contratou backup online dos dados\n",
        "Protecao_Dispositivo\t        Se possui proteção extra para o aparelho\n",
        "Suporte_Tecnico\t              Se tem suporte técnico contratado\n",
        "TV_Streaming\t                Se tem serviços de TV pela internet\n",
        "Filmes_Streaming\t            Se tem serviços de filmes pela internet\n",
        "Tipo_Contrato\t                Tipo de plano (Mensal, 1 ano, 2 anos)\n",
        "Fatura_Papel\t                Se opta por fatura digital ou impressa\n",
        "Forma_Pagamento\t              (cartão, boleto, débito automático, etc.)\n",
        "Gasto_Mensal\t                Valor que o cliente paga todo mês\n",
        "Gasto_Total\t                  Quanto ele já gastou desde que entrou\n",
        "Evasao\t                      Se saiu da empresa ou não (Sim ou Não)''')"
      ],
      "metadata": {
        "colab": {
          "base_uri": "https://localhost:8080/"
        },
        "id": "YTGVuVjOnTSy",
        "outputId": "ee77c24e-dd37-4b1f-9e58-c519525e1029"
      },
      "execution_count": 11,
      "outputs": [
        {
          "output_type": "stream",
          "name": "stdout",
          "text": [
            "Colunas Traduzidas e Explicadas\n",
            "Para entendee exatamente o que cada coisa significa:\n",
            "\n",
            "\n",
            "Nome da Coluna\t                      Significado\n",
            "\n",
            "ID_Cliente\t                  Identificação única de cada cliente\n",
            "\n",
            "Gênero\t                     Gênero do cliente (Masculino ou Feminino)\n",
            "Idoso\t                       Se o cliente é idoso (1 = Sim, 0 = Não)\n",
            "Possui_Parceiro\t             Se o cliente tem cônjuge/parceiro\n",
            "Possui_Dependentes\t         Outras pessoas sob sua responsabilidade\n",
            "MesesCliente\t               Meses que o cliente está na empresa\n",
            "Servico_Telefone\t           Se o cliente contratou serviço de telefone\n",
            "Multiplas_Linhas\t           Se o telefone tem mais de uma linha ativa\n",
            "Servico_Internet\t           Tipo de internet (DSL, Fibra ótica, etc.)\n",
            "Seguranca_Online\t            Contratou serviço de segurança de navegação\n",
            "Backup_Online\t                Se contratou backup online dos dados\n",
            "Protecao_Dispositivo\t        Se possui proteção extra para o aparelho\n",
            "Suporte_Tecnico\t              Se tem suporte técnico contratado\n",
            "TV_Streaming\t                Se tem serviços de TV pela internet\n",
            "Filmes_Streaming\t            Se tem serviços de filmes pela internet\n",
            "Tipo_Contrato\t                Tipo de plano (Mensal, 1 ano, 2 anos)\n",
            "Fatura_Papel\t                Se opta por fatura digital ou impressa\n",
            "Forma_Pagamento\t              (cartão, boleto, débito automático, etc.)\n",
            "Gasto_Mensal\t                Valor que o cliente paga todo mês\n",
            "Gasto_Total\t                  Quanto ele já gastou desde que entrou\n",
            "Evasao\t                      Se saiu da empresa ou não (Sim ou Não)\n"
          ]
        }
      ]
    },
    {
      "cell_type": "code",
      "source": [
        "print('''Tipo de Contrato vs Evasão\n",
        "\n",
        "Como interpretar:\n",
        "\n",
        "Cada coluna representa um tipo de contrato (mensal, 1 ano, 2 anos).\n",
        "\n",
        "As cores mostram se o cliente saiu (Sim) ou ficou (Não).\n",
        "\n",
        "Se a parte colorida com “Sim” estiver muito alta no “Mensal”, por exemplo,\n",
        "significa que mais clientes com contrato mensal estão saindo da empresa.''')"
      ],
      "metadata": {
        "colab": {
          "base_uri": "https://localhost:8080/"
        },
        "id": "IN6RthxrqqW_",
        "outputId": "5b5f2b8a-1405-4552-8818-edc2a8f4c720"
      },
      "execution_count": 13,
      "outputs": [
        {
          "output_type": "stream",
          "name": "stdout",
          "text": [
            "Tipo de Contrato vs Evasão\n",
            "\n",
            "Como interpretar:\n",
            "\n",
            "Cada coluna representa um tipo de contrato (mensal, 1 ano, 2 anos).\n",
            "\n",
            "As cores mostram se o cliente saiu (Sim) ou ficou (Não).\n",
            "\n",
            "Se a parte colorida com “Sim” estiver muito alta no “Mensal”, por exemplo,\n",
            "significa que mais clientes com contrato mensal estão saindo da empresa.\n"
          ]
        }
      ]
    },
    {
      "cell_type": "code",
      "source": [
        "import seaborn as sns\n",
        "import matplotlib.pyplot as plt\n",
        "\n",
        "plt.figure(figsize=(8,5))\n",
        "sns.countplot(data=dados, x='Tipo_Contrato', hue='Evasao', palette='Set2')\n",
        "plt.title('Tipo de Contrato vs Evasão de Clientes')\n",
        "plt.xlabel('Tipo de Contrato')\n",
        "plt.ylabel('Número de Clientes')\n",
        "plt.legend(title='Evasão')\n",
        "plt.xticks(rotation=20)\n",
        "plt.show()\n"
      ],
      "metadata": {
        "colab": {
          "base_uri": "https://localhost:8080/",
          "height": 525
        },
        "id": "zBN4Qd9PuM6z",
        "outputId": "e496dc1f-f691-457b-dc75-46d0e9f66149"
      },
      "execution_count": 35,
      "outputs": [
        {
          "output_type": "display_data",
          "data": {
            "text/plain": [
              "<Figure size 800x500 with 1 Axes>"
            ],
            "image/png": "[encoded data removed]"
          },
          "metadata": {}
        }
      ]
    },
    {
      "cell_type": "code",
      "source": [
        "print('''Análises Exploratórias Detalhadas.\n",
        "\n",
        "Veja qual método tem mais \"Sim\" (gente saindo).\n",
        "\n",
        "Normalmente, pagamento em boleto ou cartões pré-pagos mostra mais evasão do que débito automático, por exemplo.\n",
        "\n",
        "🔹 Comparando forma de pagamento com evasão\n",
        "🔹 Clientes por tempo de contrato''')"
      ],
      "metadata": {
        "colab": {
          "base_uri": "https://localhost:8080/"
        },
        "id": "uNMbYTfztCyh",
        "outputId": "6a0e0d5b-84ee-45a4-86e5-75935de255da"
      },
      "execution_count": 15,
      "outputs": [
        {
          "output_type": "stream",
          "name": "stdout",
          "text": [
            "Análises Exploratórias Detalhadas.\n",
            "\n",
            "Veja qual método tem mais \"Sim\" (gente saindo).\n",
            "\n",
            "Normalmente, pagamento em boleto ou cartões pré-pagos mostra mais evasão do que débito automático, por exemplo.\n",
            "\n",
            "🔹 Comparando forma de pagamento com evasão\n",
            "🔹 Clientes por tempo de contrato\n"
          ]
        }
      ]
    },
    {
      "cell_type": "code",
      "source": [
        "plt.figure(figsize=(10,5))\n",
        "sns.countplot(data=dados, x='Forma_Pagamento', hue='Evasao', palette='pastel')\n",
        "plt.title('Forma de Pagamento vs Evasão')\n",
        "plt.xlabel('Forma de Pagamento')\n",
        "plt.ylabel('Quantidade de Clientes')\n",
        "plt.xticks(rotation=25)\n",
        "plt.legend(title='Evasão')\n",
        "plt.show()\n"
      ],
      "metadata": {
        "colab": {
          "base_uri": "https://localhost:8080/",
          "height": 562
        },
        "id": "gSwDCKo7uyra",
        "outputId": "ad1d961a-c525-4c42-91e8-2ae45e10eca9"
      },
      "execution_count": 37,
      "outputs": [
        {
          "output_type": "display_data",
          "data": {
            "text/plain": [
              "<Figure size 1000x500 with 1 Axes>"
            ],
            "image/png": "[encoded data removed]"
          },
          "metadata": {}
        }
      ]
    },
    {
      "cell_type": "code",
      "source": [
        "print('''Gráfico: Tempo como Cliente vs Evasão\n",
        "\n",
        "Como interpretar:\n",
        "\n",
        "Este histograma mostra quantos clientes (e se eles evadiram ou ficaram) estão na empresa por um determinado número de meses.\n",
        "\n",
        "A parte vermelha mostra quem saiu (evadiu), e a azul quem ficou.\n",
        "\n",
        "Observe a distribuição das cores ao longo dos meses:\n",
        "\n",
        "Evasão Inicial: Se houver muitas barras vermelhas concentradas nos primeiros meses (mais à esquerda do gráfico), isso sugere que muitos clientes novos estão evadindo rapidamente.\n",
        "Evasão ao Longo do Tempo: A distribuição das barras vermelhas em meses posteriores pode indicar outros pontos críticos onde os clientes tendem a sair.\n",
        "Analisar onde as barras vermelhas são mais altas nos ajuda a entender em que momento da jornada do cliente a evasão é mais frequente.''')"
      ],
      "metadata": {
        "colab": {
          "base_uri": "https://localhost:8080/"
        },
        "id": "6MZYYjXrtiWh",
        "outputId": "0c01b00a-c959-458c-c1d3-2fb90deb9604"
      },
      "execution_count": 45,
      "outputs": [
        {
          "output_type": "stream",
          "name": "stdout",
          "text": [
            "Gráfico: Tempo como Cliente vs Evasão\n",
            "\n",
            "Como interpretar:\n",
            "\n",
            "Este histograma mostra quantos clientes (e se eles evadiram ou ficaram) estão na empresa por um determinado número de meses.\n",
            "\n",
            "A parte vermelha mostra quem saiu (evadiu), e a azul quem ficou.\n",
            "\n",
            "Observe a distribuição das cores ao longo dos meses:\n",
            "\n",
            "Evasão Inicial: Se houver muitas barras vermelhas concentradas nos primeiros meses (mais à esquerda do gráfico), isso sugere que muitos clientes novos estão evadindo rapidamente.\n",
            "Evasão ao Longo do Tempo: A distribuição das barras vermelhas em meses posteriores pode indicar outros pontos críticos onde os clientes tendem a sair.\n",
            "Analisar onde as barras vermelhas são mais altas nos ajuda a entender em que momento da jornada do cliente a evasão é mais frequente.\n"
          ]
        }
      ]
    },
    {
      "cell_type": "code",
      "source": [
        "plt.figure(figsize=(10,5))\n",
        "sns.histplot(data=dados, x='MesesCliente', hue='Evasao', bins=30, palette='Set1')\n",
        "plt.title('Tempo como Cliente vs Evasão')\n",
        "plt.xlabel('Meses como Cliente')\n",
        "plt.ylabel('Número de Clientes')\n",
        "plt.show()"
      ],
      "metadata": {
        "colab": {
          "base_uri": "https://localhost:8080/",
          "height": 487
        },
        "id": "c-BkhwijuATS",
        "outputId": "635cc2f5-910c-4efc-b1e6-9214688f76ed"
      },
      "execution_count": 42,
      "outputs": [
        {
          "output_type": "display_data",
          "data": {
            "text/plain": [
              "<Figure size 1000x500 with 1 Axes>"
            ],
            "image/png": "[encoded data removed]"
          },
          "metadata": {}
        }
      ]
    },
    {
      "cell_type": "code",
      "source": [
        "print('''Clientes com contrato mensal saem com mais frequência (mais colunas vermelhas).\n",
        "\n",
        "Contratos de longo prazo (1 ou 2 anos) mantêm mais clientes — menos evasão.\n",
        "\n",
        "Esse insight é super útil para sua conclusão, porque mostra que planos mais curtos têm maior risco de evasão,\n",
        " e isso pode guiar sugestões como criar incentivos para que os clientes escolham planos mais longos.''')"
      ],
      "metadata": {
        "colab": {
          "base_uri": "https://localhost:8080/"
        },
        "id": "a9MqHc_T8pjx",
        "outputId": "23ce6bb2-e33e-4c9f-a301-bd20dd8b2a4e"
      },
      "execution_count": 64,
      "outputs": [
        {
          "output_type": "stream",
          "name": "stdout",
          "text": [
            "Clientes com contrato mensal saem com mais frequência (mais colunas vermelhas).\n",
            "\n",
            "Contratos de longo prazo (1 ou 2 anos) mantêm mais clientes — menos evasão.\n",
            "\n",
            "Esse insight é super útil para sua conclusão, porque mostra que planos mais curtos têm maior risco de evasão,\n",
            " e isso pode guiar sugestões como criar incentivos para que os clientes escolham planos mais longos.\n"
          ]
        }
      ]
    },
    {
      "cell_type": "code",
      "source": [
        "print('''Serviços de Streaming e Evasão\n",
        "\n",
        "Vamos analisar se contratar filmes ou TV por streaming está relacionado com sair ou permanecer como cliente.\n",
        "\n",
        "Se a maioria que cancelou o serviço não tinha filmes ou TV, pode significar que esses serviços ajudam na retenção.\n",
        "\n",
        "Ou, se o contrário aparecer (quem assina sai mais), talvez esses serviços não estejam gerando valor suficiente.''')"
      ],
      "metadata": {
        "colab": {
          "base_uri": "https://localhost:8080/"
        },
        "id": "FQ4AegYM0zFi",
        "outputId": "13f4beeb-abd8-48b8-f445-4ffbde61ec94"
      },
      "execution_count": 53,
      "outputs": [
        {
          "output_type": "stream",
          "name": "stdout",
          "text": [
            "Serviços de Streaming e Evasão\n",
            "\n",
            "Vamos analisar se contratar filmes ou TV por streaming está relacionado com sair ou permanecer como cliente.\n",
            "\n",
            "Se a maioria que cancelou o serviço não tinha filmes ou TV, pode significar que esses serviços ajudam na retenção.\n",
            "\n",
            "Ou, se o contrário aparecer (quem assina sai mais), talvez esses serviços não estejam gerando valor suficiente.\n"
          ]
        }
      ]
    },
    {
      "cell_type": "code",
      "source": [
        "# Extraindo 'StreamingMovies' da coluna 'internet' e criando a coluna 'Filmes_Streaming'\n",
        "dados['Filmes_Streaming'] = dados['internet'].apply(lambda x: x.get('StreamingMovies'))\n",
        "\n",
        "plt.figure(figsize=(7,4))\n",
        "sns.countplot(data=dados, x='Filmes_Streaming', hue='Evasao', palette='coolwarm')\n",
        "plt.title('Uso de Filmes por Streaming e Evasão')\n",
        "plt.xlabel('Assinou Filmes Streaming')\n",
        "plt.ylabel('Quantidade de Clientes')\n",
        "plt.legend(title='Evasão')\n",
        "plt.show()"
      ],
      "metadata": {
        "colab": {
          "base_uri": "https://localhost:8080/",
          "height": 410
        },
        "id": "gqil0TKR0LGo",
        "outputId": "57f532e8-1635-4414-eaa5-eb443478410c"
      },
      "execution_count": 51,
      "outputs": [
        {
          "output_type": "display_data",
          "data": {
            "text/plain": [
              "<Figure size 700x400 with 1 Axes>"
            ],
            "image/png": "[encoded data removed]"
          },
          "metadata": {}
        }
      ]
    },
    {
      "cell_type": "code",
      "source": [
        "print('Tratamento de Dados')"
      ],
      "metadata": {
        "colab": {
          "base_uri": "https://localhost:8080/"
        },
        "id": "z1ipoRjuk8A7",
        "outputId": "44da4d66-2604-49bd-913e-2983e7f70846"
      },
      "execution_count": 13,
      "outputs": [
        {
          "output_type": "stream",
          "name": "stdout",
          "text": [
            "Tratamento de Dados\n"
          ]
        }
      ]
    },
    {
      "cell_type": "code",
      "source": [
        "# Verificando valores ausentes\n",
        "dados.isnull().sum()\n",
        "\n",
        "# Substituindo valores vazios por \"Não informado\"\n",
        "dados.fillna('Não informado', inplace=True)\n",
        "\n",
        "# Conferindo tipos de dados\n",
        "dados.dtypes\n"
      ],
      "metadata": {
        "colab": {
          "base_uri": "https://localhost:8080/",
          "height": 272
        },
        "id": "bsCjK-nBlFOq",
        "outputId": "d3e28bdd-ae9f-49dd-96c7-3970936c049e"
      },
      "execution_count": 14,
      "outputs": [
        {
          "output_type": "execute_result",
          "data": {
            "text/plain": [
              "customerID    object\n",
              "Evasao        object\n",
              "customer      object\n",
              "phone         object\n",
              "internet      object\n",
              "account       object\n",
              "dtype: object"
            ],
            "text/html": [
              "<div>\n",
              "<style scoped>\n",
              "    .dataframe tbody tr th:only-of-type {\n",
              "        vertical-align: middle;\n",
              "    }\n",
              "\n",
              "    .dataframe tbody tr th {\n",
              "        vertical-align: top;\n",
              "    }\n",
              "\n",
              "    .dataframe thead th {\n",
              "        text-align: right;\n",
              "    }\n",
              "</style>\n",
              "<table border=\"1\" class=\"dataframe\">\n",
              "  <thead>\n",
              "    <tr style=\"text-align: right;\">\n",
              "      <th></th>\n",
              "      <th>0</th>\n",
              "    </tr>\n",
              "  </thead>\n",
              "  <tbody>\n",
              "    <tr>\n",
              "      <th>customerID</th>\n",
              "      <td>object</td>\n",
              "    </tr>\n",
              "    <tr>\n",
              "      <th>Evasao</th>\n",
              "      <td>object</td>\n",
              "    </tr>\n",
              "    <tr>\n",
              "      <th>customer</th>\n",
              "      <td>object</td>\n",
              "    </tr>\n",
              "    <tr>\n",
              "      <th>phone</th>\n",
              "      <td>object</td>\n",
              "    </tr>\n",
              "    <tr>\n",
              "      <th>internet</th>\n",
              "      <td>object</td>\n",
              "    </tr>\n",
              "    <tr>\n",
              "      <th>account</th>\n",
              "      <td>object</td>\n",
              "    </tr>\n",
              "  </tbody>\n",
              "</table>\n",
              "</div><br><label><b>dtype:</b> object</label>"
            ]
          },
          "metadata": {},
          "execution_count": 14
        }
      ]
    },
    {
      "cell_type": "code",
      "source": [
        "print('Análise Exploratória de Dados (EDA)')"
      ],
      "metadata": {
        "colab": {
          "base_uri": "https://localhost:8080/"
        },
        "id": "L_fg23bflJAC",
        "outputId": "719e5226-7043-405e-9eeb-8c62e187edcf"
      },
      "execution_count": 15,
      "outputs": [
        {
          "output_type": "stream",
          "name": "stdout",
          "text": [
            "Análise Exploratória de Dados (EDA)\n"
          ]
        }
      ]
    },
    {
      "cell_type": "code",
      "source": [
        "import seaborn as sns\n",
        "import matplotlib.pyplot as plt\n",
        "\n",
        "plt.figure(figsize=(8,5))\n",
        "sns.countplot(data=dados, x='Tipo_Contrato', hue='Evasao', palette='Set2')\n",
        "plt.title('Tipo de Contrato vs Evasão de Clientes')\n",
        "plt.xlabel('Tipo de Contrato')\n",
        "plt.ylabel('Número de Clientes')\n",
        "plt.legend(title='Evasão')\n",
        "plt.xticks(rotation=20)\n",
        "plt.show()\n"
      ],
      "metadata": {
        "colab": {
          "base_uri": "https://localhost:8080/",
          "height": 525
        },
        "id": "G3wVES4E5BQy",
        "outputId": "9751d628-a2b8-4b67-a642-ed56f6c45057"
      },
      "execution_count": 56,
      "outputs": [
        {
          "output_type": "display_data",
          "data": {
            "text/plain": [
              "<Figure size 800x500 with 1 Axes>"
            ],
            "image/png": "[encoded data removed]"
          },
          "metadata": {}
        }
      ]
    },
    {
      "cell_type": "code",
      "source": [
        "print('''Esses gráficos ajudam a responder quais fatores influenciam a evasão de clientes, com base em:\n",
        "\n",
        "Contrato\n",
        "\n",
        "Pagamento\n",
        "\n",
        "Tempo de relacionamento\n",
        "\n",
        "Gasto\n",
        "\n",
        "E serviços contratadosesses gráficos agora te ajudam a responder quais fatores influenciam a evasão de clientes, com base em:''')"
      ],
      "metadata": {
        "colab": {
          "base_uri": "https://localhost:8080/"
        },
        "id": "_quHHL1u1ywD",
        "outputId": "1a2120ff-e7d3-4b22-9985-de029c4d555a"
      },
      "execution_count": 54,
      "outputs": [
        {
          "output_type": "stream",
          "name": "stdout",
          "text": [
            "Esses gráficos ajudam a responder quais fatores influenciam a evasão de clientes, com base em:\n",
            "\n",
            "Contrato\n",
            "\n",
            "Pagamento\n",
            "\n",
            "Tempo de relacionamento\n",
            "\n",
            "Gasto\n",
            "\n",
            "E serviços contratadosesses gráficos agora te ajudam a responder quais fatores influenciam a evasão de clientes, com base em:\n"
          ]
        }
      ]
    },
    {
      "cell_type": "code",
      "source": [
        "print('''Insights e Recomendações com Base nas Análises\n",
        "\n",
        "Clientes com contratos mensais têm maior taxa de evasão.\n",
        "\n",
        "A forma de pagamento automática (débito automático) reduz o churn.\n",
        "\n",
        "O tempo de fidelidade (Meses Cliente) está fortemente associado à permanência do cliente.''')"
      ],
      "metadata": {
        "colab": {
          "base_uri": "https://localhost:8080/"
        },
        "id": "SB-wcTjiSlCC",
        "outputId": "7e41660d-67a2-4ce8-8090-7f8de87831c5"
      },
      "execution_count": 5,
      "outputs": [
        {
          "output_type": "stream",
          "name": "stdout",
          "text": [
            "Insights e Recomendações com Base nas Análises\n",
            "\n",
            "Clientes com contratos mensais têm maior taxa de evasão.\n",
            "\n",
            "A forma de pagamento automática (débito automático) reduz o churn.\n",
            "\n",
            "O tempo de fidelidade (Meses Cliente) está fortemente associado à permanência do cliente.\n"
          ]
        }
      ]
    },
    {
      "cell_type": "code",
      "source": [
        "print('''Sugestões = Com base nos padrões observados, recomendamos as seguintes ações para redução da evasão:\n",
        "\n",
        "Criar programas de fidelização com vantagens para contratos mais longos.\n",
        "\n",
        "Estimular a adesão ao débito automático com benefícios promocionais em contratos anuais.\n",
        "\n",
        "Campanhas para adesão ao débito automático.\n",
        "\n",
        "Investir atendimento e ofertas personalizadas para perfis de clientes novos (ponto dm risco chuen).\n",
        "\n",
        "Oferecer bônus para clientes mais antigos\n",
        "\n",
        "Realizar ações específicas nos primeiros meses de contrato, período com maior risco de churn.''')\n",
        "\n",
        "\n"
      ],
      "metadata": {
        "colab": {
          "base_uri": "https://localhost:8080/"
        },
        "id": "F2Y86a_Hlm7K",
        "outputId": "c29d5ab8-ccce-4689-ad88-5769f71274bb"
      },
      "execution_count": 6,
      "outputs": [
        {
          "output_type": "stream",
          "name": "stdout",
          "text": [
            "Sugestões = Com base nos padrões observados, recomendamos as seguintes ações para redução da evasão:\n",
            "\n",
            "Criar programas de fidelização com vantagens para contratos mais longos.\n",
            "\n",
            "Estimular a adesão ao débito automático com benefícios promocionais em contratos anuais.\n",
            "\n",
            "Campanhas para adesão ao débito automático.\n",
            "\n",
            "Investir atendimento e ofertas personalizadas para perfis de clientes novos (ponto dm risco chuen).\n",
            "\n",
            "Oferecer bônus para clientes mais antigos\n",
            "\n",
            "Realizar ações específicas nos primeiros meses de contrato, período com maior risco de churn.\n"
          ]
        }
      ]
    },
    {
      "cell_type": "code",
      "source": [
        "print('''Conclusão:\n",
        "\n",
        "Com base na análise exploratória dos dados da Telecom X, foi possível identificar\n",
        "padrões e comportamentos que contribuem para a evasão (churn) de clientes.\n",
        "Através do processo de ETL — limpamos e tratamos informações ausentes, e visualizamos relações entre variáveis.\n",
        "\n",
        "Clientes com contratos mensais apresentam uma taxa de evasão significativamente maior.\n",
        "\n",
        "Clientes com menor tempo de vínculo com a empresa são os que mais cancelam os serviços.\n",
        "\n",
        "A forma de pagamento influencia na permanencia do cliente: (débito automático) reduz o churn.\n",
        "\n",
        "O tempo de fidelidade (Meses Cliente) está fortemente associado à permanência do cliente.\n",
        "\n",
        "Clientes com fatura digital e pagamento por boleto tendem a sair mais.\n",
        "\n",
        "Quem permanece mais tempo como cliente tem menor chance de evasão.\n",
        "\n",
        "Clientes que contratam vários serviços juntos tendem a ficar mais tempo.\n",
        "\n",
        "O aumento no tempo de relacionamento reduz a evasão.''')\n"
      ],
      "metadata": {
        "colab": {
          "base_uri": "https://localhost:8080/"
        },
        "id": "nsuivU1E2JuS",
        "outputId": "4af3f4d7-ab83-43f6-edca-35fbe10440ee"
      },
      "execution_count": 7,
      "outputs": [
        {
          "output_type": "stream",
          "name": "stdout",
          "text": [
            "Conclusão:\n",
            "\n",
            "Com base na análise exploratória dos dados da Telecom X, foi possível identificar \n",
            "padrões e comportamentos que contribuem para a evasão (churn) de clientes. \n",
            "Através do processo de ETL — limpamos e tratamos informações ausentes, e visualizamos relações entre variáveis. \n",
            "\n",
            "Clientes com contratos mensais apresentam uma taxa de evasão significativamente maior.\n",
            "\n",
            "Clientes com menor tempo de vínculo com a empresa são os que mais cancelam os serviços.\n",
            "\n",
            "A forma de pagamento influencia na permanencia do cliente: (débito automático) reduz o churn.\n",
            "\n",
            "O tempo de fidelidade (Meses Cliente) está fortemente associado à permanência do cliente.\n",
            "\n",
            "Clientes com fatura digital e pagamento por boleto tendem a sair mais.\n",
            "\n",
            "Quem permanece mais tempo como cliente tem menor chance de evasão.\n",
            "\n",
            "Clientes que contratam vários serviços juntos tendem a ficar mais tempo.\n",
            "\n",
            "O aumento no tempo de relacionamento reduz a evasão.\n"
          ]
        }
      ]
    },
    {
      "cell_type": "markdown",
      "metadata": {
        "id": "c9f1b612"
      },
      "source": [
        "<h1 style=\"color:darkblue; font-family:Georgia;\">📊 Análise de Dados – Telecom X</h1>\n",
        "\n",
        "<h3 style=\"color:#444444; font-family:Verdana;\">\n",
        "Tema: Evasão de Clientes (Churn)<br>\n",
        "Nome: Vanessa Borges de Souza<br>\n",
        "Ferramenta: Google Colab com Python\n",
        "</h3>"
      ]
    }
  ]
}